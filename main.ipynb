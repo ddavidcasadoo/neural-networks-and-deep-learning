{
 "cells": [
  {
   "cell_type": "markdown",
   "metadata": {},
   "source": [
    "## Load MNIST Data"
   ]
  },
  {
   "cell_type": "code",
   "execution_count": 1,
   "metadata": {},
   "outputs": [],
   "source": [
    "from src import mnist_loader"
   ]
  },
  {
   "cell_type": "code",
   "execution_count": 3,
   "metadata": {},
   "outputs": [],
   "source": [
    "training_data, validation_data, test_data = mnist_loader.load_data_wrapper()"
   ]
  },
  {
   "cell_type": "markdown",
   "metadata": {},
   "source": [
    "## Set up Network with 30 hidden Neurons"
   ]
  },
  {
   "cell_type": "code",
   "execution_count": 4,
   "metadata": {},
   "outputs": [],
   "source": [
    "from src import network\n",
    "net = network.Network([784, 30, 10])"
   ]
  },
  {
   "cell_type": "markdown",
   "metadata": {},
   "source": [
    "### Using stochastic gradient descent to learn from training_data for 30 epochs\n",
    "### Mini-batch size 10 and eta= 3.0"
   ]
  },
  {
   "cell_type": "code",
   "execution_count": 5,
   "metadata": {},
   "outputs": [
    {
     "name": "stdout",
     "output_type": "stream",
     "text": [
      "Epoch 0: 7958 / 10000, took 9.01 seconds\n",
      "Epoch 1: 9242 / 10000, took 8.83 seconds\n",
      "Epoch 2: 9305 / 10000, took 8.79 seconds\n",
      "Epoch 3: 9347 / 10000, took 9.05 seconds\n",
      "Epoch 4: 9385 / 10000, took 8.94 seconds\n",
      "Epoch 5: 9415 / 10000, took 8.77 seconds\n",
      "Epoch 6: 9395 / 10000, took 8.73 seconds\n",
      "Epoch 7: 9445 / 10000, took 8.67 seconds\n",
      "Epoch 8: 9443 / 10000, took 8.69 seconds\n",
      "Epoch 9: 9445 / 10000, took 9.18 seconds\n",
      "Epoch 10: 9445 / 10000, took 8.74 seconds\n",
      "Epoch 11: 9436 / 10000, took 8.79 seconds\n",
      "Epoch 12: 9491 / 10000, took 9.13 seconds\n",
      "Epoch 13: 9455 / 10000, took 9.44 seconds\n",
      "Epoch 14: 9483 / 10000, took 9.53 seconds\n",
      "Epoch 15: 9437 / 10000, took 9.85 seconds\n",
      "Epoch 16: 9499 / 10000, took 10.40 seconds\n",
      "Epoch 17: 9471 / 10000, took 9.58 seconds\n",
      "Epoch 18: 9496 / 10000, took 8.78 seconds\n",
      "Epoch 19: 9475 / 10000, took 8.81 seconds\n",
      "Epoch 20: 9482 / 10000, took 8.94 seconds\n",
      "Epoch 21: 9461 / 10000, took 8.72 seconds\n",
      "Epoch 22: 9511 / 10000, took 8.68 seconds\n",
      "Epoch 23: 9509 / 10000, took 8.96 seconds\n",
      "Epoch 24: 9507 / 10000, took 8.79 seconds\n",
      "Epoch 25: 9535 / 10000, took 8.70 seconds\n",
      "Epoch 26: 9499 / 10000, took 8.70 seconds\n",
      "Epoch 27: 9499 / 10000, took 8.97 seconds\n",
      "Epoch 28: 9495 / 10000, took 9.04 seconds\n",
      "Epoch 29: 9526 / 10000, took 8.78 seconds\n"
     ]
    }
   ],
   "source": [
    "net.SGD(training_data, 30, 10, 3.0, test_data=test_data)"
   ]
  },
  {
   "cell_type": "markdown",
   "metadata": {},
   "source": [
    "### Similar but with 100 hidden layers"
   ]
  },
  {
   "cell_type": "code",
   "execution_count": 8,
   "metadata": {},
   "outputs": [
    {
     "name": "stdout",
     "output_type": "stream",
     "text": [
      "Epoch 0: 5684 / 10000, took 30.32 seconds\n",
      "Epoch 1: 6576 / 10000, took 32.66 seconds\n",
      "Epoch 2: 7610 / 10000, took 32.14 seconds\n",
      "Epoch 3: 8541 / 10000, took 30.30 seconds\n",
      "Epoch 4: 8555 / 10000, took 29.91 seconds\n",
      "Epoch 5: 8600 / 10000, took 32.29 seconds\n",
      "Epoch 6: 8634 / 10000, took 32.67 seconds\n",
      "Epoch 7: 8650 / 10000, took 29.98 seconds\n",
      "Epoch 8: 8662 / 10000, took 30.83 seconds\n",
      "Epoch 9: 8670 / 10000, took 32.14 seconds\n",
      "Epoch 10: 8678 / 10000, took 32.25 seconds\n",
      "Epoch 11: 8681 / 10000, took 30.18 seconds\n",
      "Epoch 12: 8689 / 10000, took 29.99 seconds\n",
      "Epoch 13: 8670 / 10000, took 31.53 seconds\n",
      "Epoch 14: 8698 / 10000, took 40.39 seconds\n",
      "Epoch 15: 8696 / 10000, took 48.81 seconds\n",
      "Epoch 16: 8699 / 10000, took 48.63 seconds\n",
      "Epoch 17: 8706 / 10000, took 50.80 seconds\n",
      "Epoch 18: 8713 / 10000, took 52.83 seconds\n",
      "Epoch 19: 8694 / 10000, took 48.28 seconds\n",
      "Epoch 20: 8705 / 10000, took 47.24 seconds\n",
      "Epoch 21: 8710 / 10000, took 49.15 seconds\n",
      "Epoch 22: 8708 / 10000, took 52.95 seconds\n",
      "Epoch 23: 8701 / 10000, took 49.67 seconds\n",
      "Epoch 24: 8708 / 10000, took 48.51 seconds\n",
      "Epoch 25: 8715 / 10000, took 50.74 seconds\n",
      "Epoch 26: 8719 / 10000, took 49.23 seconds\n",
      "Epoch 27: 8710 / 10000, took 47.59 seconds\n",
      "Epoch 28: 8728 / 10000, took 48.02 seconds\n",
      "Epoch 29: 8713 / 10000, took 49.48 seconds\n"
     ]
    }
   ],
   "source": [
    "net = network.Network([784, 100, 10])\n",
    "net.SGD(training_data, 30, 10, 3.0, test_data=test_data)"
   ]
  },
  {
   "cell_type": "markdown",
   "metadata": {},
   "source": [
    "### No hidden layer"
   ]
  },
  {
   "cell_type": "code",
   "execution_count": 7,
   "metadata": {},
   "outputs": [
    {
     "name": "stdout",
     "output_type": "stream",
     "text": [
      "Epoch 0: 1135 / 10000, took 2.62 seconds\n",
      "Epoch 1: 980 / 10000, took 2.56 seconds\n",
      "Epoch 2: 1135 / 10000, took 2.54 seconds\n",
      "Epoch 3: 1135 / 10000, took 2.59 seconds\n",
      "Epoch 4: 1032 / 10000, took 2.60 seconds\n",
      "Epoch 5: 1032 / 10000, took 2.67 seconds\n",
      "Epoch 6: 980 / 10000, took 2.58 seconds\n",
      "Epoch 7: 1135 / 10000, took 2.56 seconds\n",
      "Epoch 8: 958 / 10000, took 2.55 seconds\n",
      "Epoch 9: 1010 / 10000, took 2.56 seconds\n",
      "Epoch 10: 1009 / 10000, took 2.55 seconds\n",
      "Epoch 11: 958 / 10000, took 2.73 seconds\n",
      "Epoch 12: 958 / 10000, took 2.70 seconds\n",
      "Epoch 13: 1010 / 10000, took 2.64 seconds\n",
      "Epoch 14: 980 / 10000, took 2.55 seconds\n",
      "Epoch 15: 1009 / 10000, took 2.53 seconds\n",
      "Epoch 16: 982 / 10000, took 2.57 seconds\n",
      "Epoch 17: 1135 / 10000, took 2.53 seconds\n",
      "Epoch 18: 1135 / 10000, took 2.54 seconds\n",
      "Epoch 19: 1010 / 10000, took 2.55 seconds\n",
      "Epoch 20: 982 / 10000, took 2.65 seconds\n",
      "Epoch 21: 1135 / 10000, took 2.59 seconds\n",
      "Epoch 22: 1028 / 10000, took 2.55 seconds\n",
      "Epoch 23: 1028 / 10000, took 2.54 seconds\n",
      "Epoch 24: 1135 / 10000, took 2.57 seconds\n",
      "Epoch 25: 1032 / 10000, took 2.54 seconds\n",
      "Epoch 26: 1028 / 10000, took 2.53 seconds\n",
      "Epoch 27: 974 / 10000, took 2.54 seconds\n",
      "Epoch 28: 1135 / 10000, took 2.58 seconds\n",
      "Epoch 29: 1028 / 10000, took 2.53 seconds\n"
     ]
    }
   ],
   "source": [
    "net = network.Network([784, 0, 10])\n",
    "net.SGD(training_data, 30, 10, 3.0, test_data=test_data)"
   ]
  },
  {
   "cell_type": "code",
   "execution_count": null,
   "metadata": {},
   "outputs": [],
   "source": []
  }
 ],
 "metadata": {
  "kernelspec": {
   "display_name": ".venv",
   "language": "python",
   "name": "python3"
  },
  "language_info": {
   "codemirror_mode": {
    "name": "ipython",
    "version": 3
   },
   "file_extension": ".py",
   "mimetype": "text/x-python",
   "name": "python",
   "nbconvert_exporter": "python",
   "pygments_lexer": "ipython3",
   "version": "3.10.0"
  }
 },
 "nbformat": 4,
 "nbformat_minor": 2
}
